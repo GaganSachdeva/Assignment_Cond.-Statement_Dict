{
 "cells": [
  {
   "cell_type": "code",
   "execution_count": 2,
   "metadata": {},
   "outputs": [
    {
     "name": "stdout",
     "output_type": "stream",
     "text": [
      "Enter first no2\n",
      "Enter second no.4\n",
      "Greater no. is: 4\n"
     ]
    }
   ],
   "source": [
    "#Take two integer value from the user and print greatest among them.\n",
    "a = int(input(\"Enter first no\"))\n",
    "b = int(input(\"Enter second no.\"))\n",
    "if a>b:\n",
    "    print(\"Greater no. is:\", a)\n",
    "elif a<b:\n",
    "    print(\"Greater no. is:\", b)\n",
    "else:\n",
    "    print(\"Both are same\")\n"
   ]
  },
  {
   "cell_type": "code",
   "execution_count": 3,
   "metadata": {},
   "outputs": [
    {
     "name": "stdout",
     "output_type": "stream",
     "text": [
      "Enter the no5\n",
      "5 is odd\n"
     ]
    }
   ],
   "source": [
    "#Write a program that reads an integer from the user. \n",
    "#Then your program should display a message indicating whether the integer is even or odd.\n",
    "x = int(input(\"Enter the no\"))\n",
    "if x %2 ==0:\n",
    "    print (x, \"is even\")\n",
    "else:\n",
    "    print (x, \"is odd\")"
   ]
  },
  {
   "cell_type": "code",
   "execution_count": 16,
   "metadata": {},
   "outputs": [
    {
     "name": "stdout",
     "output_type": "stream",
     "text": [
      "Enter the alphabet y\n",
      "y  sometimes is consonant & sometimes is vewel\n"
     ]
    }
   ],
   "source": [
    "#Create a program that reads a letter of the alphabet from the user.\n",
    "#If the user enters a,e,i,o,u then your program should display a message\n",
    "#indicating that the entered letter is a vowel. If the user enters y\n",
    "#then your progrram should display a message indicating that\n",
    "#sometimes y is a vowel,and sometoomes y is a constant. Otherwise your \n",
    "#program should display a message indicating that the letter is a constant.\n",
    "x = input(\"Enter the alphabet\" \" \" )\n",
    "if x in (\"a\", \"e\", \"i\", \"o\", \"u\"):\n",
    "    print (x, \" is vowel\")\n",
    "elif x == \"y\":\n",
    "    print (x, \" sometimes is consonant & sometimes is vewel\")\n",
    "else:\n",
    "    print (x, \" is consonant\")"
   ]
  },
  {
   "cell_type": "code",
   "execution_count": 19,
   "metadata": {},
   "outputs": [
    {
     "name": "stdout",
     "output_type": "stream",
     "text": [
      "Enter first side of traingle3\n",
      "Enter second side of traingle4\n",
      "Enter third side of traingle5\n",
      "Traingle is scalene\n"
     ]
    }
   ],
   "source": [
    "# Write a programe to define the type of Traingle (Equilateral, Isiscales or scalene)\n",
    "# on the basis of inputs from user all three sides of traingle\n",
    "x = int(input(\"Enter first side of traingle\"))\n",
    "y = int(input(\"Enter second side of traingle\"))\n",
    "z = int(input(\"Enter third side of traingle\"))\n",
    "if x ==y & y==z:\n",
    "    print (\"Traingle is equilateral\")\n",
    "elif x==y or y==z or x ==z:\n",
    "    print (\"Traingle is isoscale\")\n",
    "else:\n",
    "    print(\"Traingle is scalene\")"
   ]
  },
  {
   "cell_type": "code",
   "execution_count": 29,
   "metadata": {},
   "outputs": [
    {
     "name": "stdout",
     "output_type": "stream",
     "text": [
      "Enter the no. of sides from 3 to 10 6\n",
      "Shape is hexagon\n"
     ]
    }
   ],
   "source": [
    "#Write a program that determines the name of a shape from its number of sides.\n",
    "#Read the no. of sides from the user and then report the appropriate name as\n",
    "#part of a meaningful message. your program should support shapes with anywhere\n",
    "#from 3 upto 10 sides. If a no of sides outside of this range is entered \n",
    "#then your program should display a appropriate error msg.\n",
    "n = int(input(\"Enter the no. of sides from 3 to 10\" \" \" ))\n",
    "if n==3:\n",
    "    print(\"Shape is Traingle.\")\n",
    "elif n ==4:\n",
    "    print(\"Shape is quadrilateral\")\n",
    "elif n ==5:\n",
    "    print(\"Shape is Pentagon\")\n",
    "elif n ==6:\n",
    "    print(\"Shape is hexagon\")\n",
    "elif n==7:\n",
    "    print(\"Shape is heptagon\")\n",
    "elif n==8:\n",
    "    print(\"Shape is octagon\")\n",
    "elif n ==9:\n",
    "    print(\"shape is nanogan\")\n",
    "elif n==10:\n",
    "    print(\"shape is decagon\")\n",
    "else:\n",
    "    print(\"Given no. of side is out of the range\")\n",
    "    \n"
   ]
  },
  {
   "cell_type": "code",
   "execution_count": 38,
   "metadata": {},
   "outputs": [
    {
     "name": "stdout",
     "output_type": "stream",
     "text": [
      "Enter the no. of units 5\n",
      "Sorry! No Discount and final price is 500\n"
     ]
    }
   ],
   "source": [
    "#A shop will give a discount of 10% if the cost of the purchased qty is more than 1000.\n",
    "#Ask the user for quantity, suppose one unit will cist 100. Judge and print total cost for user.\n",
    "n = int(input(\"Enter the no. of units\" \" \"))\n",
    "x = 100\n",
    "if n * x > 1000:\n",
    "    fp = (n*x)-(n*x/10)\n",
    "    print (\"Final Price after discount @ 10% is\", fp)\n",
    "else:\n",
    "    n*x <=1000\n",
    "    fp = n*x\n",
    "    print (\"Sorry! No Discount and final price is\", fp)\n",
    "    \n",
    "    \n",
    "\n"
   ]
  },
  {
   "cell_type": "code",
   "execution_count": 40,
   "metadata": {},
   "outputs": [
    {
     "name": "stdout",
     "output_type": "stream",
     "text": [
      "Enter age of first person 18\n",
      "Enter age of second person29\n",
      "Enter age of third person45\n",
      "p3 is oldest & p1 is youngest\n"
     ]
    }
   ],
   "source": [
    "#Take input of age of 3 people by user and determine oldest and youngest among them.\n",
    "p1 = float(input(\"Enter age of first person\" \" \"))\n",
    "p2 = float(input(\"Enter age of second person\" \"\"))\n",
    "p3 = float(input(\"Enter age of third person\" \"\"))\n",
    "if p1>p2>p3:\n",
    "    print (\"p1 is oldest & p3 is youngest\")\n",
    "elif p3>p2>p1:\n",
    "    print (\"p3 is oldest & p1 is youngest\")\n",
    "elif p2>p3>p1:\n",
    "    print(\"p2 is oldest & p1 is youngest\")\n",
    "\n"
   ]
  },
  {
   "cell_type": "code",
   "execution_count": 46,
   "metadata": {},
   "outputs": [
    {
     "name": "stdout",
     "output_type": "stream",
     "text": [
      "Enter the name of employeeTej\n",
      "Enter the salary amount 5000\n",
      "Enter the years6\n",
      "Tej your total salary is 5250.0\n"
     ]
    }
   ],
   "source": [
    "#A company decided to give a bonus of 5% to an employee\n",
    "#if his/her year of service is motre than 5 years. Ask user for their salary\n",
    "#and year of service and print the net bonus amount.\n",
    "name = input(\"Enter the name of employee\")\n",
    "salary = float(input(\"Enter the salary amount\" \" \"))\n",
    "year = float(input(\"Enter the years\" \"\"))\n",
    "if year > 5:\n",
    "    TS = (salary)+(salary*0.05)\n",
    "    print(name, \"your total salary is\", TS)\n",
    "else:\n",
    "    print(name, \"your total salary will be same this year\")"
   ]
  },
  {
   "cell_type": "code",
   "execution_count": 58,
   "metadata": {},
   "outputs": [
    {
     "name": "stdout",
     "output_type": "stream",
     "text": [
      "Enter the year 2000\n",
      "2000 is leap as well centuary year\n"
     ]
    }
   ],
   "source": [
    "#Write a program to check if a year is leap year or not.\n",
    "#If a year is divisible by 4 then it is leap year but if the year is a\n",
    "#centuary year like 2000, 1900, 2100 then it must be divisible by 400.\n",
    "year = int(input(\"Enter the year\" \" \"))\n",
    "if year % 4 ==0 and year % 400 != 0:\n",
    "    print(year, \"is leap year\")\n",
    "if year % 400 == 0:\n",
    "    print(year, \"is leap as well centuary year\")\n",
    "else:\n",
    "    print(year, \"is not leap year\")"
   ]
  },
  {
   "cell_type": "code",
   "execution_count": 64,
   "metadata": {},
   "outputs": [
    {
     "name": "stdout",
     "output_type": "stream",
     "text": [
      "Enter the name of monthSep\n",
      "no. of days in Sep are 30\n"
     ]
    }
   ],
   "source": [
    "#Write a python program to display the no of days in a month\n",
    "#name from the given list of months or month no entered by user.\n",
    "month_name = input(\"Enter the name of month\")\n",
    "\n",
    "if month_name in  (\"Jan\", \"Mar\", \"May\", \"July\", \"August\", \"Oct\", \"Dec\"):\n",
    "    print (\"no. of days in\", month_name, \"are 31\")\n",
    "elif month_name in(\"April\", \"June\", \"Sep\", \"Nov\"):\n",
    "    print (\"no. of days in\", month_name, \"are 30\")\n",
    "elif month_name ==(\"feb\"):\n",
    "    print (\"no. of days in\", month_name, \"are 28 or 29\")\n",
    "else:\n",
    "    print(\"month name is not valid\")\n",
    "    "
   ]
  },
  {
   "cell_type": "code",
   "execution_count": null,
   "metadata": {},
   "outputs": [],
   "source": [
    "#Write a python program to get next day of a given date.\n"
   ]
  },
  {
   "cell_type": "markdown",
   "metadata": {},
   "source": [
    "Dictionary Assignment"
   ]
  },
  {
   "cell_type": "code",
   "execution_count": 67,
   "metadata": {},
   "outputs": [
    {
     "name": "stdout",
     "output_type": "stream",
     "text": [
      "Mustang\n"
     ]
    }
   ],
   "source": [
    "#Given a dictionary:\n",
    "car = {\"brand\":\"Ford\", \"model\":\"Mustang\", \"year\":1964}\n",
    "#1. print the value of the \"model\" key of the car dictionary.\n",
    "print(car[\"model\"])"
   ]
  },
  {
   "cell_type": "code",
   "execution_count": 68,
   "metadata": {},
   "outputs": [
    {
     "name": "stdout",
     "output_type": "stream",
     "text": [
      "dict_items([('brand', 'Ford'), ('model', 'Mustang'), ('year', 2020)])\n"
     ]
    }
   ],
   "source": [
    "#change the year value from 1964 to 2020.\n",
    "car[\"year\"] = 2020\n",
    "print(car.items())"
   ]
  },
  {
   "cell_type": "code",
   "execution_count": 69,
   "metadata": {},
   "outputs": [
    {
     "name": "stdout",
     "output_type": "stream",
     "text": [
      "{'brand': 'Ford', 'model': 'Mustang', 'year': 2020, 'colour': 'red'}\n"
     ]
    }
   ],
   "source": [
    "#Add the key/value pair \"colour\": \"red\" to the car dictionary.\n",
    "car.update({\"colour\": \"red\"})\n",
    "print(car)\n"
   ]
  },
  {
   "cell_type": "code",
   "execution_count": 70,
   "metadata": {},
   "outputs": [
    {
     "name": "stdout",
     "output_type": "stream",
     "text": [
      "{'gold': 500, 'pouch': ['flint', 'twine', 'gemstone'], 'backpack': ['xylophone', 'dagger', 'bedroll', 'bread', 'loaf'], 'pocket': ['seashell', 'strangeberry', 'lint']}\n"
     ]
    }
   ],
   "source": [
    "inventory = {\"gold\":500, \"pouch\": [\"flint\", \"twine\", \"gemstone\"], \n",
    "             \"backpack\": [\"xylophone\", \"dagger\", \"bedroll\", \"bread\", \"loaf\"]}\n",
    "#Add a key to inventory called \"pocket\" and set the value of \"pocket\" to be a list\n",
    "# consisting of the strings \"seashell\", \"strangeberry\", and \"lint\".\n",
    "inventory.update({\"pocket\": [\"seashell\", \"strangeberry\", \"lint\"]})\n",
    "print(inventory)"
   ]
  },
  {
   "cell_type": "code",
   "execution_count": 71,
   "metadata": {},
   "outputs": [
    {
     "name": "stdout",
     "output_type": "stream",
     "text": [
      "['bedroll', 'bread', 'dagger', 'loaf', 'xylophone']\n"
     ]
    }
   ],
   "source": [
    "#sort the items in the list sorted under the \"backpack\" key.\n",
    "tinylist = inventory [\"backpack\"]\n",
    "print (sorted (tinylist))"
   ]
  },
  {
   "cell_type": "code",
   "execution_count": 72,
   "metadata": {},
   "outputs": [
    {
     "name": "stdout",
     "output_type": "stream",
     "text": [
      "550\n"
     ]
    }
   ],
   "source": [
    "#Add 50 to the number stored under the \"gold\" key.\n",
    "inventory[\"gold\"] = inventory [\"gold\"]+50\n",
    "print (inventory[\"gold\"])"
   ]
  },
  {
   "cell_type": "code",
   "execution_count": 73,
   "metadata": {},
   "outputs": [
    {
     "name": "stdout",
     "output_type": "stream",
     "text": [
      "{'name': 'gagan', 'ID': 10275, 'company': 'abc'}\n"
     ]
    }
   ],
   "source": [
    "#Write a python script to concatenate three dictionaries to create a new one.\n",
    "dict_first = {\"name\": \"gagan\"}\n",
    "dict_2nd = {\"ID\": 10275}\n",
    "dict_3rd = {\"company\": \"abc\"}\n",
    "dict_con = {}\n",
    "for d in (dict_first, dict_2nd, dict_3rd):\n",
    "    dict_con.update(d)\n",
    "print (dict_con)    "
   ]
  },
  {
   "cell_type": "code",
   "execution_count": 74,
   "metadata": {},
   "outputs": [
    {
     "name": "stdout",
     "output_type": "stream",
     "text": [
      "200\n"
     ]
    }
   ],
   "source": [
    "#write a pyrthon program to sum all the items in a dictionary.\n",
    "d1 = {\"eng\": 55, \"math\": 78, \"science\": 67}\n",
    "print(sum(d1.values()))"
   ]
  },
  {
   "cell_type": "code",
   "execution_count": 75,
   "metadata": {},
   "outputs": [
    {
     "name": "stdout",
     "output_type": "stream",
     "text": [
      "Enter the key boo\n",
      "Key not available\n"
     ]
    }
   ],
   "source": [
    "#Write a python script to check whether a given key already exists in a dict.\n",
    "d = {\"foo\": 100, \"bar\": 200, \"baz\": 300}\n",
    "key = input(\"Enter the key \")\n",
    "if key in d.keys():\n",
    "    print (\"Key is available\")\n",
    "else:\n",
    "    print (\"Key not available\")"
   ]
  },
  {
   "cell_type": "code",
   "execution_count": 76,
   "metadata": {},
   "outputs": [
    {
     "ename": "KeyError",
     "evalue": "1",
     "output_type": "error",
     "traceback": [
      "\u001b[1;31m---------------------------------------------------------------------------\u001b[0m",
      "\u001b[1;31mKeyError\u001b[0m                                  Traceback (most recent call last)",
      "\u001b[1;32m<ipython-input-76-9c4e08868d5b>\u001b[0m in \u001b[0;36m<module>\u001b[1;34m\u001b[0m\n\u001b[0;32m      1\u001b[0m \u001b[1;31m# What method call will delete the entry whose value is 200?\u001b[0m\u001b[1;33m\u001b[0m\u001b[1;33m\u001b[0m\u001b[1;33m\u001b[0m\u001b[0m\n\u001b[1;32m----> 2\u001b[1;33m \u001b[0mprint\u001b[0m\u001b[1;33m(\u001b[0m\u001b[0md\u001b[0m\u001b[1;33m.\u001b[0m\u001b[0mpop\u001b[0m\u001b[1;33m(\u001b[0m\u001b[1;36m1\u001b[0m\u001b[1;33m)\u001b[0m\u001b[1;33m)\u001b[0m\u001b[1;33m\u001b[0m\u001b[1;33m\u001b[0m\u001b[0m\n\u001b[0m",
      "\u001b[1;31mKeyError\u001b[0m: 1"
     ]
    }
   ],
   "source": [
    "# What method call will delete the entry whose value is 200?\n",
    "print(d.pop(1))"
   ]
  },
  {
   "cell_type": "code",
   "execution_count": 77,
   "metadata": {},
   "outputs": [
    {
     "name": "stdout",
     "output_type": "stream",
     "text": [
      "dict_keys(['foo', 'bar', 'baz'])\n"
     ]
    }
   ],
   "source": [
    "#write a python program to check multiple keys exists in a dictionary\n",
    "d = {\"foo\": 100, \"bar\": 200, \"baz\": 300}\n",
    "print(d.keys())"
   ]
  },
  {
   "cell_type": "code",
   "execution_count": 78,
   "metadata": {},
   "outputs": [
    {
     "name": "stdout",
     "output_type": "stream",
     "text": [
      "dict_keys(['foo', 'bar', 'baz'])\n"
     ]
    },
    {
     "data": {
      "text/plain": [
       "False"
      ]
     },
     "execution_count": 78,
     "metadata": {},
     "output_type": "execute_result"
    }
   ],
   "source": [
    "print(d.keys()) == {\"class\", \"name\"}"
   ]
  },
  {
   "cell_type": "code",
   "execution_count": null,
   "metadata": {},
   "outputs": [],
   "source": []
  }
 ],
 "metadata": {
  "kernelspec": {
   "display_name": "Python 3",
   "language": "python",
   "name": "python3"
  },
  "language_info": {
   "codemirror_mode": {
    "name": "ipython",
    "version": 3
   },
   "file_extension": ".py",
   "mimetype": "text/x-python",
   "name": "python",
   "nbconvert_exporter": "python",
   "pygments_lexer": "ipython3",
   "version": "3.8.3"
  }
 },
 "nbformat": 4,
 "nbformat_minor": 4
}
